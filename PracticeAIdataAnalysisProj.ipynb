{
  "cells": [
    {
      "cell_type": "markdown",
      "metadata": {
        "id": "view-in-github",
        "colab_type": "text"
      },
      "source": [
        "<a href=\"https://colab.research.google.com/github/bpyFX/ColabProjects/blob/main/PracticeAIdataAnalysisProj.ipynb\" target=\"_parent\"><img src=\"https://colab.research.google.com/assets/colab-badge.svg\" alt=\"Open In Colab\"/></a>"
      ]
    },
    {
      "cell_type": "markdown",
      "source": [
        "Here's a practice project in Python that will help you build fundamental skills for AI-powered data analysis: **Customer Churn Prediction**. This project covers data loading, cleaning, exploration, modeling, and evaluation, providing a solid foundation.\n",
        "\n",
        "**Project: Customer Churn Prediction**\n",
        "\n",
        "**Dataset:** You can use the \"Telco Customer Churn\" dataset available on Kaggle ([https://www.kaggle.com/datasets/blastchar/telco-customer-churn](https://www.google.com/url?sa=E&source=gmail&q=https://www.kaggle.com/datasets/blastchar/telco-customer-churn)). This dataset contains information about telecom customers, including demographics, services used, and whether they churned (left the company).\n",
        "\n",
        "**Project Steps:**\n",
        "\n",
        "1.  **Data Loading and Inspection:**\n",
        "\n",
        "      * Use `pandas` to load the CSV file into a DataFrame.\n",
        "      * Use `df.head()`, `df.info()`, and `df.describe()` to get an initial understanding of the data.\n",
        "\n",
        "    <!-- end list -->"
      ],
      "metadata": {
        "id": "2FtfPN4TdWBP"
      }
    },
    {
      "source": [
        "import pandas as pd\n",
        "import numpy as np\n",
        "from sklearn.model_selection import train_test_split\n",
        "from sklearn.ensemble import RandomForestClassifier\n",
        "from sklearn.metrics import classification_report, accuracy_score\n",
        "\n",
        "# Replace 'path/to/your/file.csv' with the actual path to your CSV file\n",
        "file_path = '/WA_Fn-UseC_-Telco-Customer-Churn.csv'\n",
        "df = pd.read_csv(file_path)\n",
        "print(df.head())\n",
        "print(df.info())\n",
        "print(df.describe())"
      ],
      "cell_type": "code",
      "metadata": {
        "colab": {
          "base_uri": "https://localhost:8080/"
        },
        "id": "x47VWn64ipTZ",
        "outputId": "8ae4d2e4-cc28-4248-c707-8de86a2b2bcb"
      },
      "execution_count": 3,
      "outputs": [
        {
          "output_type": "stream",
          "name": "stdout",
          "text": [
            "   customerID  gender  SeniorCitizen Partner Dependents  tenure PhoneService  \\\n",
            "0  7590-VHVEG  Female              0     Yes         No       1           No   \n",
            "1  5575-GNVDE    Male              0      No         No      34          Yes   \n",
            "2  3668-QPYBK    Male              0      No         No       2          Yes   \n",
            "3  7795-CFOCW    Male              0      No         No      45           No   \n",
            "4  9237-HQITU  Female              0      No         No       2          Yes   \n",
            "\n",
            "      MultipleLines InternetService OnlineSecurity  ... DeviceProtection  \\\n",
            "0  No phone service             DSL             No  ...               No   \n",
            "1                No             DSL            Yes  ...              Yes   \n",
            "2                No             DSL            Yes  ...               No   \n",
            "3  No phone service             DSL            Yes  ...              Yes   \n",
            "4                No     Fiber optic             No  ...               No   \n",
            "\n",
            "  TechSupport StreamingTV StreamingMovies        Contract PaperlessBilling  \\\n",
            "0          No          No              No  Month-to-month              Yes   \n",
            "1          No          No              No        One year               No   \n",
            "2          No          No              No  Month-to-month              Yes   \n",
            "3         Yes          No              No        One year               No   \n",
            "4          No          No              No  Month-to-month              Yes   \n",
            "\n",
            "               PaymentMethod MonthlyCharges  TotalCharges Churn  \n",
            "0           Electronic check          29.85         29.85    No  \n",
            "1               Mailed check          56.95        1889.5    No  \n",
            "2               Mailed check          53.85        108.15   Yes  \n",
            "3  Bank transfer (automatic)          42.30       1840.75    No  \n",
            "4           Electronic check          70.70        151.65   Yes  \n",
            "\n",
            "[5 rows x 21 columns]\n",
            "<class 'pandas.core.frame.DataFrame'>\n",
            "RangeIndex: 7043 entries, 0 to 7042\n",
            "Data columns (total 21 columns):\n",
            " #   Column            Non-Null Count  Dtype  \n",
            "---  ------            --------------  -----  \n",
            " 0   customerID        7043 non-null   object \n",
            " 1   gender            7043 non-null   object \n",
            " 2   SeniorCitizen     7043 non-null   int64  \n",
            " 3   Partner           7043 non-null   object \n",
            " 4   Dependents        7043 non-null   object \n",
            " 5   tenure            7043 non-null   int64  \n",
            " 6   PhoneService      7043 non-null   object \n",
            " 7   MultipleLines     7043 non-null   object \n",
            " 8   InternetService   7043 non-null   object \n",
            " 9   OnlineSecurity    7043 non-null   object \n",
            " 10  OnlineBackup      7043 non-null   object \n",
            " 11  DeviceProtection  7043 non-null   object \n",
            " 12  TechSupport       7043 non-null   object \n",
            " 13  StreamingTV       7043 non-null   object \n",
            " 14  StreamingMovies   7043 non-null   object \n",
            " 15  Contract          7043 non-null   object \n",
            " 16  PaperlessBilling  7043 non-null   object \n",
            " 17  PaymentMethod     7043 non-null   object \n",
            " 18  MonthlyCharges    7043 non-null   float64\n",
            " 19  TotalCharges      7043 non-null   object \n",
            " 20  Churn             7043 non-null   object \n",
            "dtypes: float64(1), int64(2), object(18)\n",
            "memory usage: 1.1+ MB\n",
            "None\n",
            "       SeniorCitizen       tenure  MonthlyCharges\n",
            "count    7043.000000  7043.000000     7043.000000\n",
            "mean        0.162147    32.371149       64.761692\n",
            "std         0.368612    24.559481       30.090047\n",
            "min         0.000000     0.000000       18.250000\n",
            "25%         0.000000     9.000000       35.500000\n",
            "50%         0.000000    29.000000       70.350000\n",
            "75%         0.000000    55.000000       89.850000\n",
            "max         1.000000    72.000000      118.750000\n"
          ]
        }
      ]
    },
    {
      "cell_type": "markdown",
      "source": [
        "2.  **Data Cleaning and Preprocessing:**\n",
        "\n",
        "      * Handle missing values (if any). The Telco dataset has some blank spaces in the `TotalCharges` column that need to be converted to null values and then handled.\n",
        "      * Convert categorical features (e.g., `Gender`, `Contract`, `PaymentMethod`) into numerical representations using one-hot encoding or label encoding.\n",
        "      * Convert `TotalCharges` to numeric.\n",
        "\n",
        "    <!-- end list -->"
      ],
      "metadata": {
        "id": "7-9OImUbdWBR"
      }
    },
    {
      "source": [
        "df['TotalCharges'] = pd.to_numeric(df['TotalCharges'], errors='coerce')\n",
        "df.dropna(inplace=True) #Drop rows with null values\n",
        "\n",
        "categorical_cols = df.select_dtypes(include=['object']).columns.tolist()\n",
        "categorical_cols.remove('customerID')  # Remove customerID if it's categorical\n",
        "\n",
        "df = pd.get_dummies(df, columns=categorical_cols)"
      ],
      "cell_type": "code",
      "metadata": {
        "id": "8YV-cE4Gj_hi"
      },
      "execution_count": 9,
      "outputs": []
    },
    {
      "cell_type": "markdown",
      "source": [
        "3.  **Exploratory Data Analysis (EDA):**\n",
        "\n",
        "      * Use visualizations (histograms, bar charts, scatter plots) to explore the relationships between features and churn.\n",
        "      * Use `matplotlib` or `seaborn` for visualization.\n",
        "\n",
        "    <!-- end list -->"
      ],
      "metadata": {
        "id": "_vs-I6_9dWBR"
      }
    },
    {
      "cell_type": "code",
      "source": [
        "import matplotlib.pyplot as plt\n",
        "import seaborn as sns\n",
        "sns.countplot(x='Churn', data=df)\n",
        "plt.show()"
      ],
      "outputs": [
        {
          "output_type": "display_data",
          "data": {
            "text/plain": [
              "<Figure size 640x480 with 1 Axes>"
            ],
            "image/png": "[encoded data removed]"
          },
          "metadata": {}
        }
      ],
      "execution_count": 10,
      "metadata": {
        "colab": {
          "base_uri": "https://localhost:8080/",
          "height": 449
        },
        "id": "trzY7Rx2dWBR",
        "outputId": "8f94ddc0-25cd-4da7-d837-f7598f38c097"
      }
    },
    {
      "cell_type": "markdown",
      "source": [
        "4.  **Feature Engineering (Optional but Recommended):**\n",
        "\n",
        "      * Create new features that might be useful for predicting churn. For example, you could create a feature for the average monthly charge or the total number of services used.\n",
        "\n",
        "5.  **Model Training and Evaluation:**\n",
        "\n",
        "      * Split the data into training and testing sets using `train_test_split` from `sklearn.model_selection`.\n",
        "      * Choose a suitable machine learning model for classification (e.g., Logistic Regression, Random Forest, Support Vector Machine).\n",
        "      * Train the model on the training data.\n",
        "      * Evaluate the model's performance on the testing data using metrics like accuracy, precision, recall, and F1-score using `classification_report` and `accuracy_score` from `sklearn.metrics`.\n",
        "\n",
        "    <!-- end list -->"
      ],
      "metadata": {
        "id": "BKIp8XMwdWBS"
      }
    },
    {
      "cell_type": "code",
      "source": [
        "X = df.drop(['customerID','Churn'], axis=1)\n",
        "y = df['Churn']\n",
        "\n",
        "X_train, X_test, y_train, y_test = train_test_split(X, y, test_size=0.2, random_state=42)\n",
        "\n",
        "model = RandomForestClassifier(random_state=42)\n",
        "model.fit(X_train, y_train)\n",
        "\n",
        "y_pred = model.predict(X_test)\n",
        "\n",
        "print(classification_report(y_test, y_pred))\n",
        "print(\"Accuracy:\", accuracy_score(y_test, y_pred))"
      ],
      "outputs": [
        {
          "output_type": "stream",
          "name": "stdout",
          "text": [
            "              precision    recall  f1-score   support\n",
            "\n",
            "           0       0.82      0.89      0.86      1033\n",
            "           1       0.61      0.48      0.54       374\n",
            "\n",
            "    accuracy                           0.78      1407\n",
            "   macro avg       0.72      0.68      0.70      1407\n",
            "weighted avg       0.77      0.78      0.77      1407\n",
            "\n",
            "Accuracy: 0.7803837953091685\n"
          ]
        }
      ],
      "execution_count": 11,
      "metadata": {
        "colab": {
          "base_uri": "https://localhost:8080/"
        },
        "id": "GmX__rcfdWBS",
        "outputId": "5c583ea3-c1c5-4f14-949e-1a6c5eeb2900"
      }
    },
    {
      "cell_type": "markdown",
      "source": [
        "6.  **Model Tuning (Optional):**\n",
        "\n",
        "      * Experiment with different hyperparameters for your chosen model to improve its performance. Use techniques like grid search or randomized search.\n",
        "\n",
        "**Key Concepts Covered:**\n",
        "\n",
        "  * Data loading and manipulation with `pandas`.\n",
        "  * Data cleaning and preprocessing.\n",
        "  * Exploratory data analysis with visualizations.\n",
        "  * Feature engineering.\n",
        "  * Model training and evaluation with `scikit-learn`.\n",
        "  * Basic machine learning concepts (classification).\n",
        "\n",
        "This project will give you practical experience with the fundamental steps involved in a data analysis project and introduce you to key Python libraries used in the field. Remember to explore the documentation for the libraries you use to deepen your understanding. Once you've completed this project, you'll be better prepared to tackle more complex data analysis tasks."
      ],
      "metadata": {
        "id": "2jfhN_zPdWBS"
      }
    },
    {
      "cell_type": "markdown",
      "source": [
        "<div class=\"md-recitation\">\n",
        "  Sources\n",
        "  <ol>\n",
        "  <li><a href=\"https://github.com/prathameshpatil2002/Customer-Churn-Prediction\">https://github.com/prathameshpatil2002/Customer-Churn-Prediction</a></li>\n",
        "  <li><a href=\"https://datascience.stackexchange.com/questions/116799/problems-with-implementing-lime\">https://datascience.stackexchange.com/questions/116799/problems-with-implementing-lime</a></li>\n",
        "  <li><a href=\"https://github.com/TheMultivariateAnalyst/Customer_churn_prediction\">https://github.com/TheMultivariateAnalyst/Customer_churn_prediction</a></li>\n",
        "  <li><a href=\"https://medium.com/latinxinai/applying-explainability-in-your-ml-models-shapley-values-175b09233b48\">https://medium.com/latinxinai/applying-explainability-in-your-ml-models-shapley-values-175b09233b48</a></li>\n",
        "  <li><a href=\"https://github.com/pbrzoz/ZUM_Projekt_s16840\">https://github.com/pbrzoz/ZUM_Projekt_s16840</a></li>\n",
        "  </ol>\n",
        "</div>"
      ],
      "metadata": {
        "id": "0n_lphPAdWBS"
      }
    }
  ],
  "metadata": {
    "colab": {
      "provenance": [],
      "include_colab_link": true
    },
    "kernelspec": {
      "display_name": "Python 3",
      "name": "python3"
    }
  },
  "nbformat": 4,
  "nbformat_minor": 0
}